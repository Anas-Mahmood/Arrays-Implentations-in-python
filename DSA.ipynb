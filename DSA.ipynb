{
 "cells": [
  {
   "cell_type": "code",
   "execution_count": 62,
   "id": "82069deb",
   "metadata": {},
   "outputs": [
    {
     "name": "stdout",
     "output_type": "stream",
     "text": [
      "\"Welcome you all in the course of Data Structures!\"\n"
     ]
    }
   ],
   "source": [
    "#1.\tUse the \"print\" function to print the line \"Welcome you all in the course of Data Structures!\"\n",
    "\n",
    "print ('\"Welcome you all in the course of Data Structures!\"')"
   ]
  },
  {
   "cell_type": "code",
   "execution_count": null,
   "id": "92afdb0e",
   "metadata": {},
   "outputs": [],
   "source": [
    "# 2.\tThe target of this exercise is to create a string, an integer, and a floating point number. \n",
    "# The string should be named dsastring and should contain the word \"Your Name\". \n",
    "# The floating point number should be named dsafloat and should contain the number 15.5, and the integer should be named dsaint\n",
    "# and should contain the number 50.\n",
    "\n",
    "dsastring=\"Anas Mahmood\"\n",
    "dsafloat=15.5\n",
    "dsaint=50\n"
   ]
  },
  {
   "cell_type": "code",
   "execution_count": 64,
   "id": "d8081d59",
   "metadata": {},
   "outputs": [],
   "source": [
    "#Create the two arrays of integers of even and odd numbers from 0 to 20 and perform following operations on Arrays using python\n",
    "# i.\tTraverse \n",
    "# ii.\tInsertion \n",
    "# iii.\tDeletion \n",
    "# iv.\tSearch \n",
    "# v.\tUpdate \n",
    "\n",
    "from array import *\n",
    "\n",
    "array1=array('i',[2,4,6,8,10,12,14,16,18,20])  #even\n",
    "array2=array('i',[1,3,5,7,9,11,13,15,17,19]) #odd\n",
    "\n"
   ]
  },
  {
   "cell_type": "code",
   "execution_count": 65,
   "id": "7a40264a",
   "metadata": {},
   "outputs": [
    {
     "name": "stdout",
     "output_type": "stream",
     "text": [
      "2 4 6 8 10 12 14 16 18 20 "
     ]
    }
   ],
   "source": [
    "#traversing in array1 i.e even array\n",
    "\n",
    "for i in array1:\n",
    "    print (i,end=\" \")\n",
    "    "
   ]
  },
  {
   "cell_type": "code",
   "execution_count": 66,
   "id": "d659e0b2",
   "metadata": {
    "scrolled": true
   },
   "outputs": [
    {
     "name": "stdout",
     "output_type": "stream",
     "text": [
      "1 3 5 7 9 11 13 15 17 19 "
     ]
    }
   ],
   "source": [
    "#traversing in array2 i.e odd array\n",
    "\n",
    "for x in array2:\n",
    "    print (x,end=\" \")"
   ]
  },
  {
   "cell_type": "code",
   "execution_count": 67,
   "id": "eceef33e",
   "metadata": {},
   "outputs": [
    {
     "name": "stdout",
     "output_type": "stream",
     "text": [
      "array('i', [2, 4, 6, 8, 10, 12, 14, 16, 18, 20, 22])\n",
      "array('i', [2, 4, 6, 8, 10, 12, 14, 16, 18, 20, 22, 24, 26])\n"
     ]
    }
   ],
   "source": [
    "#insert/add elements in array1\n",
    "\n",
    "array1.append(22)\n",
    "print(array1)\n",
    "\n",
    "#insert/add multiple elements in array1\n",
    "\n",
    "array1.extend([24,26])\n",
    "print(array1)"
   ]
  },
  {
   "cell_type": "code",
   "execution_count": 68,
   "id": "b5de37e3",
   "metadata": {},
   "outputs": [
    {
     "name": "stdout",
     "output_type": "stream",
     "text": [
      "array('i', [1, 3, 5, 7, 9, 11, 13, 15, 17, 19, 21])\n",
      "array('i', [1, 3, 5, 7, 9, 11, 13, 15, 17, 19, 21, 23, 25])\n"
     ]
    }
   ],
   "source": [
    "#insert/add elements in array2\n",
    "\n",
    "array2.append(21)\n",
    "print(array2)\n",
    "\n",
    "#insert/add multiple elements in array2\n",
    "\n",
    "array2.extend([23,25])\n",
    "print(array2)"
   ]
  },
  {
   "cell_type": "code",
   "execution_count": 69,
   "id": "8c0be42c",
   "metadata": {},
   "outputs": [
    {
     "data": {
      "text/plain": [
       "array('i', [2, 4, 6, 8, 10, 22, 12, 14, 16, 18, 20, 22, 24, 26])"
      ]
     },
     "execution_count": 69,
     "metadata": {},
     "output_type": "execute_result"
    }
   ],
   "source": [
    "#insertion in array1 at particular index\n",
    "\n",
    "array1.insert(5,22)\n",
    "array1"
   ]
  },
  {
   "cell_type": "code",
   "execution_count": 70,
   "id": "73538773",
   "metadata": {},
   "outputs": [
    {
     "data": {
      "text/plain": [
       "array('i', [1, 3, 5, 7, 9, 22, 11, 13, 15, 17, 19, 21, 23, 25])"
      ]
     },
     "execution_count": 70,
     "metadata": {},
     "output_type": "execute_result"
    }
   ],
   "source": [
    "#insertion in array2 at particular index\n",
    "\n",
    "array2.insert(5,22)\n",
    "array2"
   ]
  },
  {
   "cell_type": "code",
   "execution_count": 71,
   "id": "34fd6e8b",
   "metadata": {},
   "outputs": [
    {
     "name": "stdout",
     "output_type": "stream",
     "text": [
      "2 4 6 8 10 22 12 14 16 18 20 22 24 26 "
     ]
    }
   ],
   "source": [
    "#traversing for even numbers array i.e array1\n",
    "\n",
    "for a  in array1:\n",
    "  print(a,end=\" \")\n"
   ]
  },
  {
   "cell_type": "code",
   "execution_count": 72,
   "id": "3f184aeb",
   "metadata": {},
   "outputs": [
    {
     "name": "stdout",
     "output_type": "stream",
     "text": [
      "array('i', [4, 6, 8, 10, 22, 12, 14, 16, 18, 20, 22, 24, 26])\n",
      "array('i', [4, 6, 10, 22, 12, 14, 16, 18, 20, 22, 24, 26])\n"
     ]
    }
   ],
   "source": [
    "# deletion in array1\n",
    "\n",
    "array1.remove(2)\n",
    "print(array1)\n",
    "\n",
    "#removes the element at the specified position (index).\n",
    "array1.pop(2)\n",
    "print(array1)"
   ]
  },
  {
   "cell_type": "code",
   "execution_count": 73,
   "id": "af6ca761",
   "metadata": {},
   "outputs": [
    {
     "name": "stdout",
     "output_type": "stream",
     "text": [
      "array('i', [1, 5, 7, 9, 22, 11, 13, 15, 17, 19, 21, 23, 25])\n",
      "array('i', [1, 5, 7, 22, 11, 13, 15, 17, 19, 21, 23, 25])\n"
     ]
    }
   ],
   "source": [
    "# deletion in array2\n",
    "\n",
    "array2.remove(3)\n",
    "print(array2)\n",
    "\n",
    "#removes the element at the specified position (index)\n",
    "array2.pop(3)\n",
    "print(array2)"
   ]
  },
  {
   "cell_type": "code",
   "execution_count": 74,
   "id": "e32c5ea9",
   "metadata": {},
   "outputs": [
    {
     "name": "stdout",
     "output_type": "stream",
     "text": [
      "1\n",
      "22\n",
      "array('i', [10, 22, 12, 14, 16, 18])\n"
     ]
    }
   ],
   "source": [
    "#Searching in array1\n",
    "\n",
    "#print index of element 6\n",
    "print(array1.index(6))\n",
    "\n",
    "#prints value at index '3'\n",
    "print(array1[3])\n",
    "\n",
    "#prints values from index 2 to index 7\n",
    "print(array1[2:8])\n"
   ]
  },
  {
   "cell_type": "code",
   "execution_count": 75,
   "id": "ae3b91ef",
   "metadata": {},
   "outputs": [
    {
     "name": "stdout",
     "output_type": "stream",
     "text": [
      "2\n",
      "13\n",
      "array('i', [1, 5, 7, 22, 11, 13, 15, 17, 19, 21])\n"
     ]
    }
   ],
   "source": [
    "#Searching in array2\n",
    "\n",
    "#print index of element 7\n",
    "print(array2.index(7))\n",
    "\n",
    "#prints value at index '2'\n",
    "print(array2[5])\n",
    "\n",
    "#prints values from index 0 to index 9\n",
    "print(array2[0:10])"
   ]
  },
  {
   "cell_type": "code",
   "execution_count": 76,
   "id": "be9067b6",
   "metadata": {},
   "outputs": [
    {
     "name": "stdout",
     "output_type": "stream",
     "text": [
      "array('i', [4, 6, 3, 22, 12, 14, 16, 18, 20, 22, 24, 26])\n"
     ]
    }
   ],
   "source": [
    "#updation in array1\n",
    "\n",
    "array1[2]=3\n",
    "print(array1)"
   ]
  },
  {
   "cell_type": "code",
   "execution_count": 77,
   "id": "086289b1",
   "metadata": {},
   "outputs": [
    {
     "name": "stdout",
     "output_type": "stream",
     "text": [
      "array('i', [1, 5, 3, 22, 11, 13, 15, 17, 19, 21, 23, 25])\n"
     ]
    }
   ],
   "source": [
    "#updation in array2\n",
    "\n",
    "array2[2]=3\n",
    "print(array2)"
   ]
  },
  {
   "cell_type": "code",
   "execution_count": 78,
   "id": "fddd162d",
   "metadata": {},
   "outputs": [
    {
     "name": "stdout",
     "output_type": "stream",
     "text": [
      "1 5 3 22 11 13 15 17 19 21 23 25 "
     ]
    }
   ],
   "source": [
    "#traversing every element of odd array i.e array 2\n",
    "\n",
    "for a  in array2:\n",
    "  print(a,end=\" \")\n"
   ]
  },
  {
   "cell_type": "code",
   "execution_count": 80,
   "id": "84580cfd",
   "metadata": {},
   "outputs": [
    {
     "data": {
      "text/plain": [
       "array('i', [1, 3, 22, 11, 13, 15, 17, 19, 21, 23, 25])"
      ]
     },
     "execution_count": 80,
     "metadata": {},
     "output_type": "execute_result"
    }
   ],
   "source": [
    "# deletion in array2\n",
    "\n",
    "array2.remove(5)\n",
    "array2"
   ]
  },
  {
   "cell_type": "code",
   "execution_count": 81,
   "id": "dc9e9485",
   "metadata": {},
   "outputs": [
    {
     "data": {
      "text/plain": [
       "['DSA', 'Diff Eq', 'DLD', 'AI', 'IS']"
      ]
     },
     "execution_count": 81,
     "metadata": {},
     "output_type": "execute_result"
    }
   ],
   "source": [
    "#Create an array of your semester courses and perform following operations on Array using python\n",
    "# i.\tTraverse \n",
    "# ii.\tInsertion \n",
    "# iii.\tDeletion \n",
    "# iv.\tSearch \n",
    "# v.\tUpdate \n",
    "\n",
    "array3=[\"DSA\",\"Diff Eq\",\"DLD\",\"AI\",\"IS\"]\n",
    "array3\n"
   ]
  },
  {
   "cell_type": "code",
   "execution_count": 82,
   "id": "c60a28aa",
   "metadata": {},
   "outputs": [
    {
     "name": "stdout",
     "output_type": "stream",
     "text": [
      "DSA Diff Eq DLD AI IS "
     ]
    }
   ],
   "source": [
    "#Traversing in array3\n",
    "\n",
    "for x in array3:\n",
    "    print(x,end=\" \")"
   ]
  },
  {
   "cell_type": "code",
   "execution_count": 83,
   "id": "7ebedef0",
   "metadata": {},
   "outputs": [
    {
     "data": {
      "text/plain": [
       "['DSA',\n",
       " 'Diff Eq',\n",
       " 'DLD',\n",
       " 'AI',\n",
       " 'IS',\n",
       " 'Operating System',\n",
       " 'Machine Learing',\n",
       " 'Deep Learning']"
      ]
     },
     "execution_count": 83,
     "metadata": {},
     "output_type": "execute_result"
    }
   ],
   "source": [
    "#Insertion in array 3\n",
    "\n",
    "array3.append('Operating System')\n",
    "\n",
    "# multiple insertion\n",
    "\n",
    "array3.extend(['Machine Learing','Deep Learning'])\n",
    "array3"
   ]
  },
  {
   "cell_type": "code",
   "execution_count": 84,
   "id": "2f96ec3a",
   "metadata": {},
   "outputs": [
    {
     "data": {
      "text/plain": [
       "['DSA',\n",
       " 'Diff Eq',\n",
       " 'DLD',\n",
       " 'Calculus',\n",
       " 'AI',\n",
       " 'IS',\n",
       " 'Operating System',\n",
       " 'Machine Learing',\n",
       " 'Deep Learning']"
      ]
     },
     "execution_count": 84,
     "metadata": {},
     "output_type": "execute_result"
    }
   ],
   "source": [
    "#insertion in array3 at particular index\n",
    "\n",
    "array3.insert(3,\"Calculus\")\n",
    "array3"
   ]
  },
  {
   "cell_type": "code",
   "execution_count": 87,
   "id": "7027699a",
   "metadata": {},
   "outputs": [
    {
     "name": "stdout",
     "output_type": "stream",
     "text": [
      "DSA   Diff Eq   DLD   Calculus   AI   IS   Operating System   Machine Learing   Deep Learning   "
     ]
    }
   ],
   "source": [
    "#traversing every element of array3\n",
    "\n",
    "for a  in array3:\n",
    "  print(a,end=\"   \")"
   ]
  },
  {
   "cell_type": "code",
   "execution_count": 88,
   "id": "44d3a80b",
   "metadata": {},
   "outputs": [
    {
     "data": {
      "text/plain": [
       "['DSA',\n",
       " 'Diff Eq',\n",
       " 'DLD',\n",
       " 'Calculus',\n",
       " 'IS',\n",
       " 'Operating System',\n",
       " 'Machine Learing',\n",
       " 'Deep Learning']"
      ]
     },
     "execution_count": 88,
     "metadata": {},
     "output_type": "execute_result"
    }
   ],
   "source": [
    "# deletion in array3\n",
    "\n",
    "array3.remove(\"AI\")\n",
    "array3"
   ]
  },
  {
   "cell_type": "code",
   "execution_count": 89,
   "id": "06d9810f",
   "metadata": {},
   "outputs": [
    {
     "data": {
      "text/plain": [
       "['Diff Eq',\n",
       " 'DLD',\n",
       " 'Calculus',\n",
       " 'IS',\n",
       " 'Operating System',\n",
       " 'Machine Learing',\n",
       " 'Deep Learning']"
      ]
     },
     "execution_count": 89,
     "metadata": {},
     "output_type": "execute_result"
    }
   ],
   "source": [
    "#deletion in array3 using pop\n",
    "\n",
    "array3.pop(0)\n",
    "array3"
   ]
  },
  {
   "cell_type": "code",
   "execution_count": 90,
   "id": "73152b75",
   "metadata": {},
   "outputs": [
    {
     "name": "stdout",
     "output_type": "stream",
     "text": [
      "1\n",
      "['DLD', 'Calculus', 'IS']\n",
      "Deep Learning\n"
     ]
    }
   ],
   "source": [
    "#Searching in array3\n",
    "\n",
    "#print index of element \n",
    "print(array3.index(\"DLD\"))\n",
    "\n",
    "#print element from index 1 to 3\n",
    "print(array3[1:4])\n",
    "\n",
    "#print last element of my array\n",
    "print(array3[-1])\n"
   ]
  },
  {
   "cell_type": "code",
   "execution_count": 91,
   "id": "e4404714",
   "metadata": {},
   "outputs": [
    {
     "data": {
      "text/plain": [
       "['Diff Eq', 'DLD', 'Calculus', 'IS', 'IT', 'Machine Learing', 'Deep Learning']"
      ]
     },
     "execution_count": 91,
     "metadata": {},
     "output_type": "execute_result"
    }
   ],
   "source": [
    "#updation in array3\n",
    "\n",
    "array3[4]=\"IT\"\n",
    "array3"
   ]
  },
  {
   "cell_type": "code",
   "execution_count": null,
   "id": "cab0ee16",
   "metadata": {},
   "outputs": [],
   "source": []
  }
 ],
 "metadata": {
  "kernelspec": {
   "display_name": "Python 3 (ipykernel)",
   "language": "python",
   "name": "python3"
  },
  "language_info": {
   "codemirror_mode": {
    "name": "ipython",
    "version": 3
   },
   "file_extension": ".py",
   "mimetype": "text/x-python",
   "name": "python",
   "nbconvert_exporter": "python",
   "pygments_lexer": "ipython3",
   "version": "3.9.7"
  }
 },
 "nbformat": 4,
 "nbformat_minor": 5
}
